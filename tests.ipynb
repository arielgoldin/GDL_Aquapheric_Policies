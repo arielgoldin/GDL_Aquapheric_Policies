{
 "cells": [
  {
   "cell_type": "code",
   "execution_count": 1,
   "metadata": {},
   "outputs": [],
   "source": [
    "import pandas as pd"
   ]
  },
  {
   "cell_type": "code",
   "execution_count": 2,
   "metadata": {},
   "outputs": [
    {
     "data": {
      "text/html": [
       "<div>\n",
       "<style scoped>\n",
       "    .dataframe tbody tr th:only-of-type {\n",
       "        vertical-align: middle;\n",
       "    }\n",
       "\n",
       "    .dataframe tbody tr th {\n",
       "        vertical-align: top;\n",
       "    }\n",
       "\n",
       "    .dataframe thead th {\n",
       "        text-align: right;\n",
       "    }\n",
       "</style>\n",
       "<table border=\"1\" class=\"dataframe\">\n",
       "  <thead>\n",
       "    <tr style=\"text-align: right;\">\n",
       "      <th></th>\n",
       "      <th>ID</th>\n",
       "      <th>supply_area</th>\n",
       "      <th>year</th>\n",
       "      <th>population</th>\n",
       "      <th>service_intakes</th>\n",
       "      <th>industry_intakes</th>\n",
       "      <th>public_intakes</th>\n",
       "      <th>RFC_area</th>\n",
       "      <th>area</th>\n",
       "      <th>private_intakes</th>\n",
       "      <th>DATASOURCE</th>\n",
       "      <th>COMMENTS</th>\n",
       "    </tr>\n",
       "  </thead>\n",
       "  <tbody>\n",
       "    <tr>\n",
       "      <th>0</th>\n",
       "      <td>AMG-ZS-01</td>\n",
       "      <td>PP1 - Chapala</td>\n",
       "      <td>2020.0</td>\n",
       "      <td>1,581,298</td>\n",
       "      <td>48,064</td>\n",
       "      <td>2,208</td>\n",
       "      <td>2,286</td>\n",
       "      <td>45,178,200</td>\n",
       "      <td>198,398,000</td>\n",
       "      <td>445,436</td>\n",
       "      <td>Información comercial de SIAPA (2022) e índice...</td>\n",
       "      <td>NaN</td>\n",
       "    </tr>\n",
       "    <tr>\n",
       "      <th>1</th>\n",
       "      <td>AMG-ZS-02</td>\n",
       "      <td>PP2 - Chapala</td>\n",
       "      <td>2020.0</td>\n",
       "      <td>445,333</td>\n",
       "      <td>8,051</td>\n",
       "      <td>281</td>\n",
       "      <td>426</td>\n",
       "      <td>14,009,900</td>\n",
       "      <td>58,678,900</td>\n",
       "      <td>125,446</td>\n",
       "      <td>Información comercial de SIAPA (2022) e índice...</td>\n",
       "      <td>NaN</td>\n",
       "    </tr>\n",
       "    <tr>\n",
       "      <th>2</th>\n",
       "      <td>AMG-ZS-03</td>\n",
       "      <td>PP3 - Calderón - Colomos</td>\n",
       "      <td>2020.0</td>\n",
       "      <td>521,964</td>\n",
       "      <td>14,887</td>\n",
       "      <td>385</td>\n",
       "      <td>747</td>\n",
       "      <td>16,432,000</td>\n",
       "      <td>65,619,300</td>\n",
       "      <td>147,032</td>\n",
       "      <td>Información comercial de SIAPA (2022) e índice...</td>\n",
       "      <td>NaN</td>\n",
       "    </tr>\n",
       "    <tr>\n",
       "      <th>3</th>\n",
       "      <td>AMG-ZS-04</td>\n",
       "      <td>PP4 -Toluquilla</td>\n",
       "      <td>2020.0</td>\n",
       "      <td>457,460</td>\n",
       "      <td>9,412</td>\n",
       "      <td>210</td>\n",
       "      <td>454</td>\n",
       "      <td>10,430,600</td>\n",
       "      <td>71,272,700</td>\n",
       "      <td>128,862</td>\n",
       "      <td>Información comercial de SIAPA (2022) e índice...</td>\n",
       "      <td>NaN</td>\n",
       "    </tr>\n",
       "    <tr>\n",
       "      <th>4</th>\n",
       "      <td>AMG-ZS-05</td>\n",
       "      <td>Pozos y manantiales</td>\n",
       "      <td>2020.0</td>\n",
       "      <td>708,626</td>\n",
       "      <td>11,910</td>\n",
       "      <td>263</td>\n",
       "      <td>842</td>\n",
       "      <td>14,087,700</td>\n",
       "      <td>113,592,774</td>\n",
       "      <td>199,613</td>\n",
       "      <td>Información comercial de SIAPA (2022) e índice...</td>\n",
       "      <td>NaN</td>\n",
       "    </tr>\n",
       "  </tbody>\n",
       "</table>\n",
       "</div>"
      ],
      "text/plain": [
       "          ID               supply_area    year population service_intakes  \\\n",
       "0  AMG-ZS-01             PP1 - Chapala  2020.0  1,581,298          48,064   \n",
       "1  AMG-ZS-02             PP2 - Chapala  2020.0    445,333           8,051   \n",
       "2  AMG-ZS-03  PP3 - Calderón - Colomos  2020.0    521,964          14,887   \n",
       "3  AMG-ZS-04           PP4 -Toluquilla  2020.0    457,460           9,412   \n",
       "4  AMG-ZS-05       Pozos y manantiales  2020.0    708,626          11,910   \n",
       "\n",
       "  industry_intakes public_intakes    RFC_area         area private_intakes  \\\n",
       "0            2,208          2,286  45,178,200  198,398,000         445,436   \n",
       "1              281            426  14,009,900   58,678,900         125,446   \n",
       "2              385            747  16,432,000   65,619,300         147,032   \n",
       "3              210            454  10,430,600   71,272,700         128,862   \n",
       "4              263            842  14,087,700  113,592,774         199,613   \n",
       "\n",
       "                                          DATASOURCE  COMMENTS  \n",
       "0  Información comercial de SIAPA (2022) e índice...       NaN  \n",
       "1  Información comercial de SIAPA (2022) e índice...       NaN  \n",
       "2  Información comercial de SIAPA (2022) e índice...       NaN  \n",
       "3  Información comercial de SIAPA (2022) e índice...       NaN  \n",
       "4  Información comercial de SIAPA (2022) e índice...       NaN  "
      ]
     },
     "execution_count": 2,
     "metadata": {},
     "output_type": "execute_result"
    }
   ],
   "source": [
    "supply_areas= pd.read_csv(\"data/supply_areas.csv\")\n",
    "supply_areas.head()"
   ]
  },
  {
   "cell_type": "code",
   "execution_count": 9,
   "metadata": {},
   "outputs": [
    {
     "name": "stdout",
     "output_type": "stream",
     "text": [
      "1,581,298\n"
     ]
    }
   ],
   "source": [
    "pop0=supply_areas[\"population\"][0]\n",
    "print(pop0)"
   ]
  },
  {
   "cell_type": "code",
   "execution_count": null,
   "metadata": {},
   "outputs": [],
   "source": []
  }
 ],
 "metadata": {
  "kernelspec": {
   "display_name": "EMA",
   "language": "python",
   "name": "python3"
  },
  "language_info": {
   "codemirror_mode": {
    "name": "ipython",
    "version": 3
   },
   "file_extension": ".py",
   "mimetype": "text/x-python",
   "name": "python",
   "nbconvert_exporter": "python",
   "pygments_lexer": "ipython3",
   "version": "3.9.16"
  },
  "orig_nbformat": 4
 },
 "nbformat": 4,
 "nbformat_minor": 2
}
