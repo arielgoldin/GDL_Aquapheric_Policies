{
 "cells": [
  {
   "cell_type": "code",
   "execution_count": 1,
   "metadata": {},
   "outputs": [
    {
     "name": "stderr",
     "output_type": "stream",
     "text": [
      "c:\\Users\\ariel\\anaconda3\\envs\\MBWSA\\lib\\site-packages\\ema_workbench\\em_framework\\evaluators.py:58: UserWarning: ipyparallel not installed - IpyparalleEvaluator not available\n",
      "  warnings.warn(\"ipyparallel not installed - IpyparalleEvaluator not available\")\n"
     ]
    }
   ],
   "source": [
    "\n",
    "\n",
    "from ema_workbench import (Model, RealParameter, ScalarOutcome,\n",
    "                           MultiprocessingEvaluator, ema_logging,\n",
    "                           Constant, Scenario, Constraint,optimize)\n",
    "\n",
    "\n",
    "import pandas as pd\n",
    "import seaborn as sns\n",
    "import matplotlib.pyplot as plt\n",
    "import numpy as np"
   ]
  },
  {
   "cell_type": "code",
   "execution_count": 8,
   "metadata": {},
   "outputs": [
    {
     "name": "stdout",
     "output_type": "stream",
     "text": [
      "{'demand_PP1': 2.3244, 'demand_PP2': 0.6546, 'demand_PP3': 0.7672, 'demand_Toluquilla': 0.6724, 'demand_Pozos': 1.0416}\n"
     ]
    }
   ],
   "source": [
    "def demand (population, ZA, domestic_consumption):\n",
    "      conversion_m3s = 1/(24*60*60*1000) #converts l/day into m3/s\n",
    "      demand_value = population[f\"population_{ZA}\"] * domestic_consumption * conversion_m3s\n",
    "\n",
    "      return demand_value\n",
    "crowding_factor =3.55\n",
    "domestic_consumption=127\n",
    "\n",
    "\n",
    "ZA_names = [\"PP1\", \"PP2\", \"PP3\", \"Toluquilla\", \"Pozos\"]\n",
    "\n",
    "domestic_intakes_PP1=445436\n",
    "domestic_intakes_PP2=125446\n",
    "domestic_intakes_PP3=147032\n",
    "domestic_intakes_Toluquilla=128862\n",
    "domestic_intakes_Pozos=199613\n",
    "\n",
    "population_PP1 = domestic_intakes_PP1 * crowding_factor\n",
    "population_PP2 = domestic_intakes_PP2 * crowding_factor\n",
    "population_PP3 = domestic_intakes_PP3 * crowding_factor\n",
    "population_Toluquilla = domestic_intakes_Toluquilla * crowding_factor\n",
    "population_Pozos = domestic_intakes_Pozos * crowding_factor\n",
    "\n",
    "population_dict = {\"population_PP1\":population_PP1, \"population_PP2\":population_PP2, \"population_PP3\":population_PP3, \"population_Toluquilla\":population_Toluquilla, \"population_Pozos\":population_Pozos}\n",
    "\n",
    "demand_vars = {f\"demand_{ZA}\":np.round(demand(population_dict, ZA, domestic_consumption),4) for ZA in ZA_names}\n",
    "print (demand_vars)\n"
   ]
  },
  {
   "cell_type": "code",
   "execution_count": 7,
   "metadata": {},
   "outputs": [
    {
     "ename": "TypeError",
     "evalue": "unsupported operand type(s) for *: 'dict' and 'int'",
     "output_type": "error",
     "traceback": [
      "\u001b[1;31m---------------------------------------------------------------------------\u001b[0m",
      "\u001b[1;31mTypeError\u001b[0m                                 Traceback (most recent call last)",
      "Cell \u001b[1;32mIn[7], line 1\u001b[0m\n\u001b[1;32m----> 1\u001b[0m \u001b[38;5;28mprint\u001b[39m(\u001b[43mdemand_vars\u001b[49m\u001b[38;5;241;43m*\u001b[39;49m\u001b[38;5;241;43m100\u001b[39;49m)\n",
      "\u001b[1;31mTypeError\u001b[0m: unsupported operand type(s) for *: 'dict' and 'int'"
     ]
    }
   ],
   "source": [
    "print(demand_vars*100)"
   ]
  },
  {
   "cell_type": "code",
   "execution_count": 9,
   "metadata": {},
   "outputs": [
    {
     "ename": "TypeError",
     "evalue": "unhashable type: 'list'",
     "output_type": "error",
     "traceback": [
      "\u001b[1;31m---------------------------------------------------------------------------\u001b[0m",
      "\u001b[1;31mTypeError\u001b[0m                                 Traceback (most recent call last)",
      "Cell \u001b[1;32mIn[9], line 7\u001b[0m\n\u001b[0;32m      3\u001b[0m       demand_value \u001b[38;5;241m=\u001b[39m inputs[[\u001b[38;5;124mf\u001b[39m\u001b[38;5;124m\"\u001b[39m\u001b[38;5;124mpopulation_\u001b[39m\u001b[38;5;132;01m{\u001b[39;00mZA\u001b[38;5;132;01m}\u001b[39;00m\u001b[38;5;124m\"\u001b[39m]]\n\u001b[0;32m      5\u001b[0m       \u001b[38;5;28;01mreturn\u001b[39;00m demand_value\n\u001b[1;32m----> 7\u001b[0m demand_vars \u001b[38;5;241m=\u001b[39m {\u001b[38;5;124mf\u001b[39m\u001b[38;5;124m\"\u001b[39m\u001b[38;5;124mdemand_\u001b[39m\u001b[38;5;132;01m{\u001b[39;00mZA\u001b[38;5;132;01m}\u001b[39;00m\u001b[38;5;124m\"\u001b[39m:np\u001b[38;5;241m.\u001b[39mround(demand_test(population_dict, ZA, crowding_factor),\u001b[38;5;241m4\u001b[39m) \u001b[38;5;28;01mfor\u001b[39;00m ZA \u001b[38;5;129;01min\u001b[39;00m ZA_names}\n",
      "Cell \u001b[1;32mIn[9], line 7\u001b[0m, in \u001b[0;36m<dictcomp>\u001b[1;34m(.0)\u001b[0m\n\u001b[0;32m      3\u001b[0m       demand_value \u001b[38;5;241m=\u001b[39m inputs[[\u001b[38;5;124mf\u001b[39m\u001b[38;5;124m\"\u001b[39m\u001b[38;5;124mpopulation_\u001b[39m\u001b[38;5;132;01m{\u001b[39;00mZA\u001b[38;5;132;01m}\u001b[39;00m\u001b[38;5;124m\"\u001b[39m]]\n\u001b[0;32m      5\u001b[0m       \u001b[38;5;28;01mreturn\u001b[39;00m demand_value\n\u001b[1;32m----> 7\u001b[0m demand_vars \u001b[38;5;241m=\u001b[39m {\u001b[38;5;124mf\u001b[39m\u001b[38;5;124m\"\u001b[39m\u001b[38;5;124mdemand_\u001b[39m\u001b[38;5;132;01m{\u001b[39;00mZA\u001b[38;5;132;01m}\u001b[39;00m\u001b[38;5;124m\"\u001b[39m:np\u001b[38;5;241m.\u001b[39mround(\u001b[43mdemand_test\u001b[49m\u001b[43m(\u001b[49m\u001b[43mpopulation_dict\u001b[49m\u001b[43m,\u001b[49m\u001b[43m \u001b[49m\u001b[43mZA\u001b[49m\u001b[43m,\u001b[49m\u001b[43m \u001b[49m\u001b[43mcrowding_factor\u001b[49m\u001b[43m)\u001b[49m,\u001b[38;5;241m4\u001b[39m) \u001b[38;5;28;01mfor\u001b[39;00m ZA \u001b[38;5;129;01min\u001b[39;00m ZA_names}\n",
      "Cell \u001b[1;32mIn[9], line 3\u001b[0m, in \u001b[0;36mdemand_test\u001b[1;34m(inputs, ZA, domestic_consumption)\u001b[0m\n\u001b[0;32m      1\u001b[0m \u001b[38;5;28;01mdef\u001b[39;00m \u001b[38;5;21mdemand_test\u001b[39m (inputs, ZA, domestic_consumption):\n\u001b[0;32m      2\u001b[0m       conversion_m3s \u001b[38;5;241m=\u001b[39m \u001b[38;5;241m1\u001b[39m\u001b[38;5;241m/\u001b[39m(\u001b[38;5;241m24\u001b[39m\u001b[38;5;241m*\u001b[39m\u001b[38;5;241m60\u001b[39m\u001b[38;5;241m*\u001b[39m\u001b[38;5;241m60\u001b[39m\u001b[38;5;241m*\u001b[39m\u001b[38;5;241m1000\u001b[39m) \u001b[38;5;66;03m#converts l/day into m3/s\u001b[39;00m\n\u001b[1;32m----> 3\u001b[0m       demand_value \u001b[38;5;241m=\u001b[39m \u001b[43minputs\u001b[49m\u001b[43m[\u001b[49m\u001b[43m[\u001b[49m\u001b[38;5;124;43mf\u001b[39;49m\u001b[38;5;124;43m\"\u001b[39;49m\u001b[38;5;124;43mpopulation_\u001b[39;49m\u001b[38;5;132;43;01m{\u001b[39;49;00m\u001b[43mZA\u001b[49m\u001b[38;5;132;43;01m}\u001b[39;49;00m\u001b[38;5;124;43m\"\u001b[39;49m\u001b[43m]\u001b[49m\u001b[43m]\u001b[49m\n\u001b[0;32m      5\u001b[0m       \u001b[38;5;28;01mreturn\u001b[39;00m demand_value\n",
      "\u001b[1;31mTypeError\u001b[0m: unhashable type: 'list'"
     ]
    }
   ],
   "source": [
    "def demand_test (inputs, ZA, domestic_consumption):\n",
    "      conversion_m3s = 1/(24*60*60*1000) #converts l/day into m3/s\n",
    "      demand_value = inputs[[f\"population_{ZA}\"]]\n",
    "\n",
    "      return demand_value\n",
    "\n",
    "demand_vars = {f\"demand_{ZA}\":np.round(demand_test(population_dict, ZA, crowding_factor),4) for ZA in ZA_names}\n"
   ]
  },
  {
   "cell_type": "code",
   "execution_count": null,
   "metadata": {},
   "outputs": [],
   "source": []
  }
 ],
 "metadata": {
  "kernelspec": {
   "display_name": "MBWSA",
   "language": "python",
   "name": "python3"
  },
  "language_info": {
   "codemirror_mode": {
    "name": "ipython",
    "version": 3
   },
   "file_extension": ".py",
   "mimetype": "text/x-python",
   "name": "python",
   "nbconvert_exporter": "python",
   "pygments_lexer": "ipython3",
   "version": "3.8.18"
  }
 },
 "nbformat": 4,
 "nbformat_minor": 2
}
