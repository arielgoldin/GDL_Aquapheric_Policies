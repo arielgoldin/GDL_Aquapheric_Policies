{
 "cells": [
  {
   "cell_type": "code",
   "execution_count": 1,
   "metadata": {},
   "outputs": [],
   "source": [
    "\n",
    "\n",
    "from ema_workbench import (Model, RealParameter, ScalarOutcome,\n",
    "                           MultiprocessingEvaluator, ema_logging,\n",
    "                           Constant, Scenario, Constraint,optimize)\n",
    "\n",
    "\n",
    "import pandas as pd\n",
    "import seaborn as sns\n",
    "import matplotlib.pyplot as plt\n",
    "import numpy as np"
   ]
  },
  {
   "cell_type": "code",
   "execution_count": 22,
   "metadata": {},
   "outputs": [
    {
     "name": "stdout",
     "output_type": "stream",
     "text": [
      "22.114754098360656\n"
     ]
    }
   ],
   "source": [
    "sufficientarian_threshold=[100,50]\n",
    "supply_percapita_outcomes={\"a\":120,\"b\":1, \"c\":99}\n",
    "population = {\"a\":100,\"b\":500, \"c\":10}\n",
    "names = [\"a\", \"b\", \"c\"]\n",
    "\n",
    "sumprod= np.sum([supply_percapita_outcomes[ZA] * population[ZA] for ZA in names])/np.sum(list(population.values()))\n",
    "\n",
    "\n",
    "\n",
    "\n",
    "print(sumprod)\n"
   ]
  },
  {
   "cell_type": "code",
   "execution_count": 77,
   "metadata": {},
   "outputs": [
    {
     "data": {
      "text/plain": [
       "{'service_intakes_PP1': 48064,\n",
       " 'service_intakes_PP2': 8051,\n",
       " 'service_intakes_PP3': 14887,\n",
       " 'service_intakes_Toluquilla': 9412,\n",
       " 'service_intakes_Pozos': 11910,\n",
       " 'industry_intakes_PP1': 2208,\n",
       " 'industry_intakes_PP2': 281,\n",
       " 'industry_intakes_PP3': 385,\n",
       " 'industry_intakes_Toluquilla': 210,\n",
       " 'industry_intakes_Pozos': 263,\n",
       " 'public_intakes_PP1': 2286,\n",
       " 'public_intakes_PP2': 426,\n",
       " 'public_intakes_PP3': 747,\n",
       " 'public_intakes_Toluquilla': 454,\n",
       " 'public_intakes_Pozos': 842,\n",
       " 'domestic_intakes_PP1': 445436,\n",
       " 'domestic_intakes_PP2': 125446,\n",
       " 'domestic_intakes_PP3': 147032,\n",
       " 'domestic_intakes_Toluquilla': 128862,\n",
       " 'domestic_intakes_Pozos': 199613,\n",
       " 'domestic_consumption': 128,\n",
       " 'service_consumption': 558,\n",
       " 'industry_consumption': 4457,\n",
       " 'public_consumption': 6272}"
      ]
     },
     "execution_count": 77,
     "metadata": {},
     "output_type": "execute_result"
    }
   ],
   "source": [
    "input_data_dict = pd.read_csv(\"data/input_data.csv\").set_index('Variable').to_dict()['Value']\n",
    "input_data_dict"
   ]
  },
  {
   "cell_type": "code",
   "execution_count": 78,
   "metadata": {},
   "outputs": [],
   "source": [
    "locals().update(input_data_dict)"
   ]
  },
  {
   "cell_type": "code",
   "execution_count": 2,
   "metadata": {},
   "outputs": [
    {
     "name": "stderr",
     "output_type": "stream",
     "text": [
      "c:\\Users\\ariel\\anaconda3\\envs\\MBWSA\\lib\\site-packages\\ema_workbench\\em_framework\\evaluators.py:58: UserWarning: ipyparallel not installed - IpyparalleEvaluator not available\n",
      "  warnings.warn(\"ipyparallel not installed - IpyparalleEvaluator not available\")\n"
     ]
    }
   ],
   "source": [
    "from AMG_function import AMG_model_function\n",
    "import numpy as np\n",
    "import matplotlib.pyplot as plt\n",
    "import seaborn as sns\n",
    "import pandas as pd\n",
    "\n",
    "import ema_workbench\n",
    "from ema_workbench import (Model, RealParameter, ScalarOutcome, MultiprocessingEvaluator, ema_logging)\n",
    "\n",
    "#Setting the stage\n",
    "\n",
    "info_indicator = \"supplied\"\n",
    "justice_indicator_to_minimize = 'supplied_demand_GINI'\n",
    "experiment_name = \"space_filling\"\n",
    "\n",
    "ema_logging.log_to_stderr(ema_logging.INFO)\n",
    "\n",
    "ZA_names = [\"PP1\", \"PP2\", \"PP3\", \"Toluquilla\", \"Pozos\"]\n",
    "\n",
    "#instantiate the model\n",
    "AMG_model = Model(\"AMGmodel\", function = AMG_model_function)\n",
    "\n",
    "#Levers\n",
    "\n",
    "AMG_model.levers = []\n",
    "\n",
    "low_flow =0\n",
    "high_flow= 1.5\n",
    "maximum_flows = {\"chapala\": 7.6, \"calderon\":1.3, \"zapotillo\":1, \"pozos\":2.5, \"toluquilla\":1} #modify zapotillo and calderon to one system to handle max better and simplify?\n",
    "AMG_model.uncertainties = [RealParameter('chapala_flow',low_flow,maximum_flows[\"chapala\"]),\n",
    "                           RealParameter('calderon_flow',low_flow,maximum_flows[\"calderon\"]),\n",
    "                           RealParameter('zapotillo_flow',low_flow,maximum_flows[\"zapotillo\"]),\n",
    "                           RealParameter('pozos_flow',low_flow,maximum_flows[\"pozos\"]),\n",
    "                           RealParameter('toluquilla_flow',low_flow,maximum_flows[\"toluquilla\"])]\n",
    "\n",
    "#Outcomes\n",
    "if info_indicator != \"\":\n",
    "    info_outcomes = [f\"{info_indicator}_{ZA}\" for ZA in ZA_names]\n",
    "else: info_outcomes = []\n",
    "\n",
    "\n",
    "AMG_model.outcomes = [ScalarOutcome(info_outcome, kind=ScalarOutcome.INFO) for info_outcome in info_outcomes]\n"
   ]
  },
  {
   "cell_type": "code",
   "execution_count": 6,
   "metadata": {},
   "outputs": [
    {
     "name": "stderr",
     "output_type": "stream",
     "text": [
      "[MainProcess/INFO] pool started with 7 workers\n",
      "[MainProcess/INFO] performing 1 scenarios * 1 policies * 1 model(s) = 1 experiments\n",
      "100%|████████████████████████████████████████████| 1/1 [00:04<00:00,  4.99s/it]\n",
      "[MainProcess/INFO] experiments finished\n",
      "[MainProcess/INFO] terminating pool\n"
     ]
    },
    {
     "data": {
      "text/html": [
       "<div>\n",
       "<style scoped>\n",
       "    .dataframe tbody tr th:only-of-type {\n",
       "        vertical-align: middle;\n",
       "    }\n",
       "\n",
       "    .dataframe tbody tr th {\n",
       "        vertical-align: top;\n",
       "    }\n",
       "\n",
       "    .dataframe thead th {\n",
       "        text-align: right;\n",
       "    }\n",
       "</style>\n",
       "<table border=\"1\" class=\"dataframe\">\n",
       "  <thead>\n",
       "    <tr style=\"text-align: right;\">\n",
       "      <th></th>\n",
       "      <th>calderon_flow</th>\n",
       "      <th>chapala_flow</th>\n",
       "      <th>pozos_flow</th>\n",
       "      <th>toluquilla_flow</th>\n",
       "      <th>zapotillo_flow</th>\n",
       "      <th>scenario</th>\n",
       "      <th>policy</th>\n",
       "      <th>model</th>\n",
       "    </tr>\n",
       "  </thead>\n",
       "  <tbody>\n",
       "    <tr>\n",
       "      <th>0</th>\n",
       "      <td>0.542129</td>\n",
       "      <td>5.474466</td>\n",
       "      <td>0.000286</td>\n",
       "      <td>0.302333</td>\n",
       "      <td>0.146756</td>\n",
       "      <td>3</td>\n",
       "      <td>None</td>\n",
       "      <td>AMGmodel</td>\n",
       "    </tr>\n",
       "  </tbody>\n",
       "</table>\n",
       "</div>"
      ],
      "text/plain": [
       "   calderon_flow  chapala_flow  pozos_flow  toluquilla_flow  zapotillo_flow  \\\n",
       "0       0.542129      5.474466    0.000286         0.302333        0.146756   \n",
       "\n",
       "  scenario policy     model  \n",
       "0        3   None  AMGmodel  "
      ]
     },
     "execution_count": 6,
     "metadata": {},
     "output_type": "execute_result"
    }
   ],
   "source": [
    "ema_logging.log_to_stderr(ema_logging.INFO)\n",
    "\n",
    "n_scenarios = 1\n",
    "\n",
    "with MultiprocessingEvaluator(AMG_model, n_processes=-1) as evaluator:\n",
    "    np.random.seed(1)\n",
    "    scenarios_data = evaluator.perform_experiments(n_scenarios)\n",
    "\n",
    "import seaborn as sns\n",
    "\n",
    "df = scenarios_data[0]\n",
    "df_plot = df.drop(columns=[\"model\",\"policy\"])\n",
    "experiment_name = \"spacefilling 0-2.5\"\n",
    "\n",
    "df.head()"
   ]
  },
  {
   "cell_type": "code",
   "execution_count": null,
   "metadata": {},
   "outputs": [],
   "source": []
  }
 ],
 "metadata": {
  "kernelspec": {
   "display_name": "MBWSA",
   "language": "python",
   "name": "python3"
  },
  "language_info": {
   "codemirror_mode": {
    "name": "ipython",
    "version": 3
   },
   "file_extension": ".py",
   "mimetype": "text/x-python",
   "name": "python",
   "nbconvert_exporter": "python",
   "pygments_lexer": "ipython3",
   "version": "3.8.18"
  }
 },
 "nbformat": 4,
 "nbformat_minor": 2
}
